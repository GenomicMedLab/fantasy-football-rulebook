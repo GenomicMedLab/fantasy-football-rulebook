{
 "cells": [
  {
   "cell_type": "code",
   "execution_count": 1,
   "id": "e86874cd-f879-426a-b595-da924d82af45",
   "metadata": {},
   "outputs": [],
   "source": [
    "import csv\n",
    "from collections import defaultdict"
   ]
  },
  {
   "cell_type": "code",
   "execution_count": 2,
   "id": "c520f44f-47c8-4f89-b67b-35df29839a33",
   "metadata": {},
   "outputs": [],
   "source": [
    "with open('../data/Fantasy Football Pre-Draft Selections - Sheet4.csv') as f:\n",
    "    reader = csv.DictReader(f)\n",
    "    records = list(reader)"
   ]
  },
  {
   "cell_type": "code",
   "execution_count": 3,
   "id": "674537b2-c340-4aab-8a94-c6f120137433",
   "metadata": {},
   "outputs": [
    {
     "data": {
      "text/plain": [
       "{'Olympic Team': 'Argentina',\n",
       " 'Taken by': 'Brian',\n",
       " 'Furthest round': 'Group stage',\n",
       " 'Tie-breaking team': 'Spain'}"
      ]
     },
     "execution_count": 3,
     "metadata": {},
     "output_type": "execute_result"
    }
   ],
   "source": [
    "records[0]"
   ]
  },
  {
   "cell_type": "code",
   "execution_count": 4,
   "id": "ebe01e34-e4ff-4736-a2f3-4db957d8ca0b",
   "metadata": {},
   "outputs": [],
   "source": [
    "record_by_round = defaultdict(list)\n",
    "for r in records:\n",
    "    record_by_round[r['Furthest round']].append(r)"
   ]
  },
  {
   "cell_type": "code",
   "execution_count": 5,
   "id": "4f3b7aef-f55a-4f65-b773-287158112d3d",
   "metadata": {},
   "outputs": [],
   "source": [
    "groups = ['1st place', '2nd place', '3rd place', '4th place', 'Quarterfinals', 'Group stage']\n",
    "sorted_teams = list()\n",
    "sorted_managers = list()\n",
    "for group in groups:\n",
    "    if len(record_by_round[group]) == 1:\n",
    "        sorted_teams.append(record_by_round[group][0]['Olympic Team'])\n",
    "        sorted_managers.append(record_by_round[group][0]['Taken by'])\n",
    "    elif len(record_by_round[group]) > 1:\n",
    "        s = sorted(record_by_round[group], key=lambda x: sorted_teams.index(x['Tie-breaking team']))\n",
    "        sorted_teams.extend([x['Olympic Team'] for x in s if x['Taken by']])\n",
    "        sorted_managers.extend([x['Taken by'] for x in s if x['Taken by']])\n",
    "        "
   ]
  },
  {
   "cell_type": "code",
   "execution_count": 6,
   "id": "d27fecaa-8758-437b-9d28-b872a063b396",
   "metadata": {},
   "outputs": [
    {
     "data": {
      "text/plain": [
       "['Erica',\n",
       " 'Alex',\n",
       " 'Obi',\n",
       " 'Nicholas',\n",
       " 'Robert',\n",
       " 'Jason',\n",
       " 'Kori',\n",
       " 'Malachi',\n",
       " 'Zachary',\n",
       " 'Brian',\n",
       " 'Lee',\n",
       " 'Thomas',\n",
       " 'Susanna']"
      ]
     },
     "execution_count": 6,
     "metadata": {},
     "output_type": "execute_result"
    }
   ],
   "source": [
    "sorted_managers"
   ]
  }
 ],
 "metadata": {
  "kernelspec": {
   "display_name": "Python 3 (ipykernel)",
   "language": "python",
   "name": "python3"
  },
  "language_info": {
   "codemirror_mode": {
    "name": "ipython",
    "version": 3
   },
   "file_extension": ".py",
   "mimetype": "text/x-python",
   "name": "python",
   "nbconvert_exporter": "python",
   "pygments_lexer": "ipython3",
   "version": "3.9.4"
  }
 },
 "nbformat": 4,
 "nbformat_minor": 5
}
